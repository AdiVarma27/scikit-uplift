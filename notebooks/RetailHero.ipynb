{
 "cells": [
  {
   "cell_type": "markdown",
   "metadata": {},
   "source": [
    "# Обзор базовых подходов к решению задачи Uplift Моделирования\n",
    "\n",
    "<br>\n",
    "<center> \n",
    "  <b><a href=\"https://github.com/maks-sh/scikit-uplift/\">SCIKIT-UPLIFT REPO</a> | </b>\n",
    "  <b><a href=\"https://nbviewer.jupyter.org/github/maks-sh/scikit-uplift/blob/master/notebooks/RetailHero_EN.ipynb\">ENGLISH VERSION</a> | </b>\n",
    "  <b><a href=\"https://habr.com/ru/company/ru_mts/blog/485980/\">СТАТЬЯ НА HABR</a></b>\n",
    "</center>"
   ]
  },
  {
   "cell_type": "markdown",
   "metadata": {},
   "source": [
    "## Содержание\n",
    "\n",
    "* [Введение](#Введение)\n",
    "* [1. Подходы с одной моделью](#1.-Подходы-с-одной-моделью)\n",
    "    * [1.1 Одна модель](#1.1-Одна-модель-с-признаком-коммуникации)\n",
    "    * [1.2 Трансформация классов](#1.2-Трансформация-классов)\n",
    "* [2. Подходы с двумя моделями](#2.-Подходы-с-двумя-моделями)\n",
    "    * [2.1 Две независимые модели](#2.1-Две-независимые-модели)\n",
    "    * [2.2 Две зависимые модели](#2.3-Две-зависимые-модели)\n",
    "* [Заключение](#Заключение)\n",
    "\n",
    "## Введение\n",
    "\n",
    "Прежде чем переходить к обсуждению uplift моделирования, представим некоторую ситуацию.\n",
    "\n",
    "К вам приходит заказчик с некоторой проблемой: необходимо с помощью sms рассылки прорекламировать достаточно популярный продукт.\n",
    "У вас как у самого настоящего, топового дата саентиста в голове уже вырисовался план:\n",
    "\n",
    "<p align=\"center\">\n",
    "  <img src=\"https://raw.githubusercontent.com/maks-sh/scikit-uplift/master/docs/_static/images/memchik_RU.png\" alt=\"Топовый дс\"/>\n",
    "</p>\n",
    "\n",
    "И тут вы начинаете понимать, что продукт и без того популярный, что без коммуникации продукт достаточно часто устанавливается клиентами, что обычная бинарная классификация обнаружит много таких клиентов, а стоимость коммуникация для нас критична...\n",
    "\n",
    "Исторически, по воздействию коммуникации маркетологи разделяют всех клиентов на 4 категории:\n",
    "\n",
    "<p align=\"center\">\n",
    "  <img src=\"https://raw.githubusercontent.com/maks-sh/scikit-uplift/master/docs/_static/images/client_types_RU.png\" alt=\"Категории клиентов\"/>\n",
    "</p>\n",
    "\n",
    "1. **Спящая собака** - человек, который будет реагировать негативно, если с ним прокоммуницировать. Яркий пример: клиенты, которые забыли про платную подписку. Получив напоминание об этом, они обязательно ее отключат. Но если их не трогать, то клиенты по-прежнему будут приносить деньги.\n",
    "2. **Потерянный** - человек, который не совершит целевое действие независимо от коммуникаций. Взаимодействие с такими клиентами не приносит дополнительного дохода, но создает дополнительные затраты.\n",
    "3. **Уверенный (Лояльный)** - человек, который будет реагировать положительно, несмотря ни на что - самый лояльный вид клиентов. По аналогии с предыдущим пунктом, такие клиенты также расходуют ресурсы. Однако в данном случае расходы гораздо больше, так как **уверенные** еще и пользуются маркетинговым предложением (скидками, купонами и другое).\n",
    "4. **Убеждаемый** - это человек, который положительно реагирует на предложение, но при его отсутствии не выполнил бы целевого действия. Это те люди, которых мы хотели бы определить нашей моделью, чтобы с ними прокоммуницировать.\n",
    "\n",
    "Стоит отметить, что в зависимости от клиентской базы и особенностей компании возможно отсутствие некоторых из этих типов клиентов.\n",
    "\n",
    "Таким образом, в данной задаче нам хочется не просто спрогнозировать вероятность выполнения целевого действия, а сосредоточить рекламный бюджет на клиентах, которые выполнят целевое действие только при нашем взаимодействии. Иначе говоря, для каждого клиента хочется отдельно оценить две условные вероятности:\n",
    "\n",
    "* Выполнение целевого действия при нашем воздействии на клиента. \n",
    "    Таких клиентов будем относить к **тестовой группе (aka treatment)**: $P^T = P(Y=1 | W = 1)$,\n",
    "* Выполнение целевого действия без воздействия на клиента. \n",
    "    Таких клиентов будем относить к **контрольной группе (aka control)**: $P^C = P(Y=1 | W = 0)$,\n",
    "\n",
    "где $Y$ - бинарный флаг выполнения целевого действия, $W$ - бинарный флаг наличия коммуникации (в англоязычной литературе - _treatment_)\n",
    "\n",
    "Сам же причинно-следственный эффект **называется uplift** и оценивается как разность двух этих вероятностей:\n",
    "\n",
    "$$ uplift = P^T - P^C = P(Y = 1 | W = 1) - P(Y = 1 | W = 0)$$\n",
    "\n",
    "Прогнозирование uplift - это задача причинно-следственного вывода. Дело в том, что нужно оценить разницу между двумя событиями, которые являются взаимоисключающими для конкретного клиента (либо мы взаимодействуем с человеком, либо нет; нельзя одновременно совершить два этих действия). Именно поэтому для построения моделей uplift предъявляются дополнительные требования к исходным данным.\n",
    "\n",
    "Для получения обучающей выборки для моделирования uplift необходимо провести эксперимент: \n",
    "1. Случайным образом разбить репрезентативную часть клиентской базы на тестовую и контрольную группу\n",
    "2. Прокоммуницировать с тестовой группой\n",
    "\n",
    "Данные, полученные в рамках дизайна такого пилота, позволят нам в дальнейшем построить модель прогнозирования uplift. Стоит также отметить, что эксперимент должен быть максимально похож на кампнию, которая будет запущена позже в более крупном масштабе. Единственным отличием эксперимента от кампании должен быть тот факт, что во время пилота для взаимодействия мы выбираем случайных клиентов, а во время кампании - на основе спрогнозированного значения Uplift. Если кампания, которая в конечном итоге запускается, существенно отличается от эксперимента, используемого для сбора данных о выполнении целевых действий клиентами, то построенная модель может быть менее надежной и точной.\n",
    "\n",
    "Итак, подходы к прогнозированию uplift направлены на оценку чистого эффекта от воздействия маркетинговых кампаний на клиентов.\n",
    "\n",
    "**Подробнее про uplift можно прочитать в [цикле статьй на хабре](https://habr.com/ru/company/ru_mts/blog/485980/).**\n",
    "\n",
    "Все классические подходы к моделированию uplift можно разделить на два класса:\n",
    "1. Подходы с применением одной моделью\n",
    "2. Подходы с применением двух моделей\n",
    "\n",
    "Импортируем нужные библиотеки, считаем [данные конкурса RetailHero.ai](https://retailhero.ai/c/uplift_modeling/overview) и немного их предобработаем:"
   ]
  },
  {
   "cell_type": "code",
   "execution_count": 1,
   "metadata": {
    "ExecuteTime": {
     "end_time": "2020-01-11T11:24:52.160575Z",
     "start_time": "2020-01-11T11:24:48.898358Z"
    }
   },
   "outputs": [],
   "source": [
    "%matplotlib inline\n",
    "\n",
    "import pandas as pd; pd.set_option('display.max_columns', None)\n",
    "from sklearn.model_selection import train_test_split\n",
    "\n",
    "# Чтение данных\n",
    "df_clients = pd.read_csv('./RetailHero-data/clients.csv', index_col='client_id')\n",
    "df_train = pd.read_csv('./RetailHero-data/uplift_train.csv', index_col='client_id')\n",
    "df_test = pd.read_csv('./RetailHero-data/uplift_test.csv', index_col='client_id')\n",
    "\n",
    "# Извлечение признаков\n",
    "df_features = df_clients.copy()\n",
    "df_features['first_issue_time'] = pd.to_datetime(df_features['first_issue_date']).astype(int) / 10 ** 9\n",
    "df_features['first_redeem_time'] = pd.to_datetime(df_features['first_redeem_date']).astype(int) / 10 ** 9\n",
    "df_features['issue_redeem_delay'] = df_features['first_redeem_time'] - df_features['first_issue_time']\n",
    "df_features = df_features.drop(['first_issue_date', 'first_redeem_date'], axis=1)\n",
    "\n",
    "indices_train = df_train.index\n",
    "indices_test = df_test.index\n",
    "indices_learn, indices_valid = train_test_split(df_train.index, test_size=0.3, random_state=123)"
   ]
  },
  {
   "cell_type": "markdown",
   "metadata": {},
   "source": [
    "Для удобства объявим некоторые переменные:"
   ]
  },
  {
   "cell_type": "code",
   "execution_count": 2,
   "metadata": {
    "ExecuteTime": {
     "end_time": "2020-01-11T11:24:53.323903Z",
     "start_time": "2020-01-11T11:24:52.162994Z"
    }
   },
   "outputs": [],
   "source": [
    "X_train = df_features.loc[indices_learn, :]\n",
    "y_train = df_train.loc[indices_learn, 'target']\n",
    "treat_train = df_train.loc[indices_learn, 'treatment_flg']\n",
    "\n",
    "X_val = df_features.loc[indices_valid, :]\n",
    "y_val = df_train.loc[indices_valid, 'target']\n",
    "treat_val =  df_train.loc[indices_valid, 'treatment_flg']\n",
    "\n",
    "X_train_full = df_features.loc[indices_train, :]\n",
    "y_train_full = df_train.loc[:, 'target']\n",
    "treat_train_full = df_train.loc[:, 'treatment_flg']\n",
    "\n",
    "X_test = df_features.loc[indices_test, :]\n",
    "\n",
    "cat_features = ['gender']\n",
    "\n",
    "models_results = {\n",
    "    'approach': [],\n",
    "    'uplift@30%': []\n",
    "}"
   ]
  },
  {
   "cell_type": "markdown",
   "metadata": {},
   "source": [
    "## 1. Подходы с одной моделью\n",
    "\n",
    "### 1.1 Одна модель с признаком коммуникации\n",
    "\n",
    "Самое простое и интуитивное решение: модель обучается одновременно на двух группах, при этом бинарный флаг коммуникации выступает в качестве дополнительного признака. Каждый объект из тестовой выборки скорим дважды: с флагом коммуникации равным 1 и равным 0. Вычитая вероятности по каждому наблюдению, получим искомы uplift.\n",
    "\n",
    "\n",
    "<p align=\"center\">\n",
    "  <img src=\"https://raw.githubusercontent.com/maks-sh/scikit-uplift/master/docs/_static/images/SoloModel_RU.png\" alt=\"Solo model with treatment as a feature\"/>\n",
    "</p>"
   ]
  },
  {
   "cell_type": "code",
   "execution_count": 3,
   "metadata": {
    "ExecuteTime": {
     "end_time": "2020-01-11T11:26:25.986891Z",
     "start_time": "2020-01-11T11:24:53.326895Z"
    }
   },
   "outputs": [
    {
     "data": {
      "image/png": "[encoded data removed]",
      "text/plain": [
       "<Figure size 1440x504 with 3 Axes>"
      ]
     },
     "metadata": {
      "needs_background": "light"
     },
     "output_type": "display_data"
    }
   ],
   "source": [
    "# Инструкция по установке пакета: https://github.com/maks-sh/scikit-uplift\n",
    "# Инстркция на документацию: https://scikit-uplift.readthedocs.io/en/latest/\n",
    "from sklift.metrics import uplift_at_k\n",
    "from sklift.viz import plot_uplift_preds\n",
    "from sklift.models import SoloModel\n",
    "\n",
    "# sklift поддерживает любые модели, \n",
    "# которые удовлетворяют соглашениями scikit-learn\n",
    "# Для примера воспользуемся catboost\n",
    "from catboost import CatBoostClassifier\n",
    "\n",
    "sm = SoloModel(CatBoostClassifier(thread_count=2, random_state=42, silent=True))\n",
    "sm = sm.fit(X_train, y_train, treat_train, estimator_fit_params={'cat_features': cat_features})\n",
    "\n",
    "uplift_sm = sm.predict(X_val)\n",
    "\n",
    "sm_score = uplift_at_k(y_true=y_val, uplift=uplift_sm, treatment=treat_val, k=0.3)\n",
    "\n",
    "models_results['approach'].append('SoloModel')\n",
    "models_results['uplift@30%'].append(sm_score)\n",
    "\n",
    "# Получим условные вероятности выполнения целевого действия при взаимодействии для каждого объекта\n",
    "sm_trmnt_preds = sm.trmnt_preds_\n",
    "# И условные вероятности выполнения целевого действия без взаимодействия для каждого объекта\n",
    "sm_ctrl_preds = sm.ctrl_preds_\n",
    "\n",
    "# Отрисуем распределения вероятностей и их разность (uplift)\n",
    "plot_uplift_preds(trmnt_preds=sm_trmnt_preds, ctrl_preds=sm_ctrl_preds);"
   ]
  },
  {
   "cell_type": "code",
   "execution_count": 4,
   "metadata": {
    "ExecuteTime": {
     "end_time": "2020-01-11T11:26:26.011986Z",
     "start_time": "2020-01-11T11:26:25.990715Z"
    }
   },
   "outputs": [
    {
     "data": {
      "text/html": [
       "<div>\n",
       "<style scoped>\n",
       "    .dataframe tbody tr th:only-of-type {\n",
       "        vertical-align: middle;\n",
       "    }\n",
       "\n",
       "    .dataframe tbody tr th {\n",
       "        vertical-align: top;\n",
       "    }\n",
       "\n",
       "    .dataframe thead th {\n",
       "        text-align: right;\n",
       "    }\n",
       "</style>\n",
       "<table border=\"1\" class=\"dataframe\">\n",
       "  <thead>\n",
       "    <tr style=\"text-align: right;\">\n",
       "      <th></th>\n",
       "      <th>feature_name</th>\n",
       "      <th>feature_score</th>\n",
       "    </tr>\n",
       "  </thead>\n",
       "  <tbody>\n",
       "    <tr>\n",
       "      <th>0</th>\n",
       "      <td>first_redeem_time</td>\n",
       "      <td>57.265014</td>\n",
       "    </tr>\n",
       "    <tr>\n",
       "      <th>1</th>\n",
       "      <td>issue_redeem_delay</td>\n",
       "      <td>15.511906</td>\n",
       "    </tr>\n",
       "    <tr>\n",
       "      <th>2</th>\n",
       "      <td>age</td>\n",
       "      <td>11.130900</td>\n",
       "    </tr>\n",
       "    <tr>\n",
       "      <th>3</th>\n",
       "      <td>first_issue_time</td>\n",
       "      <td>10.264423</td>\n",
       "    </tr>\n",
       "    <tr>\n",
       "      <th>4</th>\n",
       "      <td>gender</td>\n",
       "      <td>3.501024</td>\n",
       "    </tr>\n",
       "    <tr>\n",
       "      <th>5</th>\n",
       "      <td>treatment</td>\n",
       "      <td>2.326734</td>\n",
       "    </tr>\n",
       "  </tbody>\n",
       "</table>\n",
       "</div>"
      ],
      "text/plain": [
       "         feature_name  feature_score\n",
       "0   first_redeem_time      57.265014\n",
       "1  issue_redeem_delay      15.511906\n",
       "2                 age      11.130900\n",
       "3    first_issue_time      10.264423\n",
       "4              gender       3.501024\n",
       "5           treatment       2.326734"
      ]
     },
     "execution_count": 4,
     "metadata": {},
     "output_type": "execute_result"
    }
   ],
   "source": [
    "# С той же легкостью можно обратиться к обученной модели.\n",
    "# Например, чтобы построить важность признаков:\n",
    "sm_fi = pd.DataFrame({\n",
    "    'feature_name': sm.estimator.feature_names_,\n",
    "    'feature_score': sm.estimator.feature_importances_\n",
    "}).sort_values('feature_score', ascending=False).reset_index(drop=True)\n",
    "\n",
    "sm_fi"
   ]
  },
  {
   "cell_type": "markdown",
   "metadata": {},
   "source": [
    "### 1.2 Трансформация классов\n",
    "\n",
    "Достаточно интересный и математически подтвержденный подход к построению модели, представленный еще в 2012 году. Метод заключается в прогнозировании немного измененного таргета:\n",
    "\n",
    "$$\n",
    "z_i = y_i * w_i + (1 - y_i) * (1 - w_i),\n",
    "$$\n",
    "где \n",
    "\n",
    "* $z_i$ - новая целевая переменная $i$-ого клиента; \n",
    "* $y_i$ - целевая перемнная $i$-ого клиента;\n",
    "* $w_i$ - флаг коммуникации $i$-ого клиента;  \n",
    "\n",
    "\n",
    "Другими словами, новый класс равен 1, если мы знаем, что на конкретном наблюдении, результат при взаимодействии был бы таким же хорошим, как и в контрольной группе, если бы мы могли знать результат в обеих группах:\n",
    "\n",
    "$$\n",
    "z_i = \\begin{cases} \n",
    "    1, & \\mbox{если } w_i = 1 \\mbox{ и } y_i = 1 \\\\ \n",
    "    1, & \\mbox{если } w_i = 0 \\mbox{ и } y_i = 0 \\\\\n",
    "    0, & \\mbox{в остальных случаях} \n",
    "   \\end{cases}\n",
    "$$\n",
    "\n",
    "Распишем подробнее, чему равна вероятность новой целевой переменной:\n",
    "\n",
    "$$ \n",
    "P(Z=1|X_1, ..., X_m) = \\\\\n",
    "= P(Z=1|X_1, ..., X_m, W = 1) * P(W = 1|X_1, ..., X_m, ) + \\\\\n",
    "+ P(Z=1|X_1, ..., X_m, W = 0) * P(W = 0|X_1, ..., X_m, ) = \\\\\n",
    "= P(Y=1|X_1, ..., X_m, W = 1) * P(W = 1|X_1, ..., X_m, ) + \\\\\n",
    "+ P(Y=0|X_1, ..., X_m, W = 0) * P(W = 0|X_1, ..., X_m, ).\n",
    "$$\n",
    "\n",
    "Выше мы обсуждали, что обучающая выборка для моделирования uplift собирается на основе рандомизированного разбиения части клиенской базы на тестовую и контрольную группы. Поэтому коммуникация $ W $ не может зависить от признаков клиента $ X_1, ..., X_m $. Принимая это, мы имеем: $ P(W | X_1, ..., X_m, ) = P(W) $ и \n",
    "\n",
    "$$\n",
    "P(Z=1|X_1, ..., X_m) = \\\\\n",
    "= P^T(Y=1|X_1, ..., X_m) * P(W = 1) + \\\\\n",
    "+ P^C(Y=0|X_1, ..., X_m) * P(W = 0).\n",
    "$$\n",
    "\n",
    "Также допустим, что $P(W = 1) = P(W = 0) = \\frac{1}{2}$, т.е. во время эксперимента контрольные и тестовые группы были разделены в равных пропорциях. Тогда получим следующее:\n",
    "\n",
    "$$\n",
    "P(Z=1|X_1, ..., X_m) = \n",
    "P^T(Y=1|X_1, ..., X_m) * \\frac{1}{2} + P^C(Y=0|X_1, ..., X_m) *\\frac{1}{2} \\Rightarrow \\\\\n",
    "\\Rightarrow 2 * P(Z=1|X_1, ..., X_m) = P^T(Y=1|X_1, ..., X_m) + P^C(Y=0|X_1, ..., X_m) = \\\\\n",
    "= P^T(Y=1|X_1, ..., X_m) + 1 - P^C(Y=1|X_1, ..., X_m) \\Rightarrow \\\\\n",
    "\\Rightarrow P^T(Y=1|X_1, ..., X_m) - P^C(Y=1|X_1, ..., X_m) = UPLIFT = 2 * P(Z=1|X_1, ..., X_m) - 1\n",
    "$$\n",
    "\n",
    "Таким образом, увеличив вдвое прогноз нового таргета и вычтя из него единицу мы получим значение самого uplift'a, т.е.\n",
    "\n",
    "$$\n",
    "UPLIFT = 2 * P(Z=1) - 1\n",
    "$$\n",
    "\n",
    "Исходя из допущения описанного выше: $P(W = 1) = P(W = 0) = \\frac{1}{2}$, данный подход следует использовать только в случаях, когда количество клиентов, с которыми мы прокоммуницировлаи, равно количеству клиентов, с которыми коммуникации не было. "
   ]
  },
  {
   "cell_type": "code",
   "execution_count": 5,
   "metadata": {
    "ExecuteTime": {
     "end_time": "2020-01-11T11:28:15.341790Z",
     "start_time": "2020-01-11T11:26:26.015762Z"
    }
   },
   "outputs": [
    {
     "name": "stderr",
     "output_type": "stream",
     "text": [
      "/Users/Maksim/Library/Python/3.6/lib/python/site-packages/ipykernel_launcher.py:13: UserWarning: It is recommended to use this approach on treatment balanced data. Current sample size is unbalanced.\n",
      "  del sys.path[0]\n"
     ]
    }
   ],
   "source": [
    "from sklift.models import ClassTransformation\n",
    "\n",
    "ct = ClassTransformation(CatBoostClassifier(thread_count=2, silent=True, random_state=43))\n",
    "ct = ct.fit(X_train, y_train, treat_train, estimator_fit_params={'cat_features': cat_features})\n",
    "\n",
    "uplift_ct = ct.predict(X_val)\n",
    "\n",
    "ct_score = uplift_at_k(y_true=y_val, uplift=uplift_ct, treatment=treat_val, k=0.3)\n",
    "\n",
    "models_results['approach'].append('ClassTransformation')\n",
    "models_results['uplift@30%'].append(ct_score)"
   ]
  },
  {
   "cell_type": "markdown",
   "metadata": {},
   "source": [
    "## 2. Подходы с двумя моделями\n",
    "\n",
    "Подход с двумя моделями можно встретить почти в любой работе по uplift моделированию, он часто используется в качестве бейзлайна. Однако использование двух моделей может привести к некоторым неприятным последствиям: если для обучения будут использоваться принципиально разные модели или природа данных тестовой и контрольной групп будут сильно отличаться, то возвращаемые моделями скоры  будут не сопоставимы между собой. Вследствие чего расчет uplift будет не совсем корректным. Для избежания такого эффекта необходимо калибровать модели, чтобы их скоры можно было интерпертировать как вероятности. Калибровка вероятностей модели отлично описана в [документации scikit-learn](https://scikit-learn.org/stable/modules/calibration.html).\n",
    "\n",
    "### 2.1 Две независимые модели\n",
    "\n",
    "Как понятно из названия, подход заключается в моделировании условных вероятностей тестовой и контрольной групп отдельно. В статьях утверждается, что такой подход достаточно слабый, так как обе модели фокусируются на прогнозировании результата отдельно и поэтому могут пропустить \"более слабые\" различия в выборках.\n",
    "\n",
    "<p align= \"center\">\n",
    "  <img src=\"https://raw.githubusercontent.com/maks-sh/scikit-uplift/master/docs/_static/images/TwoModels_vanila_RU.png\" alt=\"Two Models vanila\"/>\n",
    "</p>"
   ]
  },
  {
   "cell_type": "code",
   "execution_count": 6,
   "metadata": {
    "ExecuteTime": {
     "end_time": "2020-01-11T11:30:39.588687Z",
     "start_time": "2020-01-11T11:28:15.349134Z"
    }
   },
   "outputs": [
    {
     "data": {
      "image/png": "[encoded data removed]",
      "text/plain": [
       "<Figure size 1440x504 with 3 Axes>"
      ]
     },
     "metadata": {
      "needs_background": "light"
     },
     "output_type": "display_data"
    }
   ],
   "source": [
    "from sklift.models import TwoModels\n",
    "\n",
    "tm = TwoModels(\n",
    "    estimator_trmnt=CatBoostClassifier(silent=True, thread_count=2, random_state=42), \n",
    "    estimator_ctrl=CatBoostClassifier(silent=True, thread_count=2, random_state=42), \n",
    "    method='vanilla'\n",
    ")\n",
    "tm = tm.fit(\n",
    "    X_train, y_train, treat_train,\n",
    "    estimator_trmnt_fit_params={'cat_features': cat_features}, \n",
    "    estimator_ctrl_fit_params={'cat_features': cat_features}\n",
    ")\n",
    "\n",
    "uplift_tm = tm.predict(X_val)\n",
    "\n",
    "tm_score = uplift_at_k(y_true=y_val, uplift=uplift_tm, treatment=treat_val, k=0.3)\n",
    "\n",
    "models_results['approach'].append('TwoModels')\n",
    "models_results['uplift@30%'].append(tm_score)\n",
    "\n",
    "plot_uplift_preds(trmnt_preds=tm.trmnt_preds_, ctrl_preds=tm.ctrl_preds_);"
   ]
  },
  {
   "cell_type": "markdown",
   "metadata": {},
   "source": [
    "### 2.2 Две зависимые модели\n",
    "\n",
    "Подход зависимого представления данных основан на методе цепочек классификаторов, первоначально разработанном для задач многоклассовой классификации. Идея состоит в том, что при наличии $L$ различных меток можно построить $L$ различных классификаторов, каждый из которых решает задачу бинарной классификации и в процессе обучения каждый следующий классификатор использует предсказания предыдущих в качестве дополнительных признаков. Авторы данного метода предложили использовать ту же идею для решения проблемы uplift моделирования в два этапа. В начале мы обучаем классификатор по контрольным данным: \n",
    "$$\n",
    "P^C = P(Y=1| X, W = 0),\n",
    "$$\n",
    "затем исполним предсказания $P_C$ в качестве нового признака для обучения второго классификатора на тестовых данных, тем самым эффективно вводя зависимость между двумя наборами данных:\n",
    "\n",
    "$$\n",
    "P^T =  P(Y=1| X, P_C(X), W = 1)\n",
    "$$\n",
    "\n",
    "Чтобы получить uplift для каждого наблюдения, вычислим разницу:\n",
    "\n",
    "$$\n",
    "uplift(x_i) = P^T(x_i, P_C(x_i)) - P^C(x_i)\n",
    "$$\n",
    "\n",
    "Интуитивно второй классификатор изучает разницу между ожидаемым результатом в тесте и контроле, т.е. сам uplift.\n",
    "\n",
    "<p align= \"center\">\n",
    "  <img src=\"https://raw.githubusercontent.com/maks-sh/scikit-uplift/master/docs/_static/images/TwoModels_ddr_control_RU.png\" alt=\"Two dependent models\"/>\n",
    "</p>"
   ]
  },
  {
   "cell_type": "code",
   "execution_count": 7,
   "metadata": {
    "ExecuteTime": {
     "end_time": "2020-01-11T11:33:00.678244Z",
     "start_time": "2020-01-11T11:30:39.595831Z"
    }
   },
   "outputs": [
    {
     "data": {
      "image/png": "[encoded data removed]",
      "text/plain": [
       "<Figure size 1440x504 with 3 Axes>"
      ]
     },
     "metadata": {
      "needs_background": "light"
     },
     "output_type": "display_data"
    }
   ],
   "source": [
    "tm_ctrl = TwoModels(\n",
    "    estimator_trmnt=CatBoostClassifier(silent=True, thread_count=2, random_state=42), \n",
    "    estimator_ctrl=CatBoostClassifier(silent=True, thread_count=2, random_state=42), \n",
    "    method='ddr_control'\n",
    ")\n",
    "tm_ctrl = tm_ctrl.fit(\n",
    "    X_train, y_train, treat_train,\n",
    "    estimator_trmnt_fit_params={'cat_features': cat_features}, \n",
    "    estimator_ctrl_fit_params={'cat_features': cat_features}\n",
    ")\n",
    "\n",
    "uplift_tm_ctrl = tm_ctrl.predict(X_val)\n",
    "\n",
    "tm_ctrl_score = uplift_at_k(y_true=y_val, uplift=uplift_tm_ctrl, treatment=treat_val, k=0.3)\n",
    "\n",
    "models_results['approach'].append('TwoModels_ddr_control')\n",
    "models_results['uplift@30%'].append(tm_ctrl_score)\n",
    "\n",
    "plot_uplift_preds(trmnt_preds=tm_ctrl.trmnt_preds_, ctrl_preds=tm_ctrl.ctrl_preds_);"
   ]
  },
  {
   "cell_type": "markdown",
   "metadata": {},
   "source": [
    "Аналогичным образом можно сначала обучить классификатор $P^T$, а затем использовать его предсказания в качестве признака для классификатора $P^C$."
   ]
  },
  {
   "cell_type": "code",
   "execution_count": 8,
   "metadata": {
    "ExecuteTime": {
     "end_time": "2020-01-11T11:35:01.078553Z",
     "start_time": "2020-01-11T11:33:00.685751Z"
    }
   },
   "outputs": [
    {
     "data": {
      "image/png": "[encoded data removed]",
      "text/plain": [
       "<Figure size 1440x504 with 3 Axes>"
      ]
     },
     "metadata": {
      "needs_background": "light"
     },
     "output_type": "display_data"
    }
   ],
   "source": [
    "tm_trmnt = TwoModels(\n",
    "    estimator_trmnt=CatBoostClassifier(silent=True, thread_count=2, random_state=42), \n",
    "    estimator_ctrl=CatBoostClassifier(silent=True, thread_count=2, random_state=42), \n",
    "    method='ddr_treatment'\n",
    ")\n",
    "tm_trmnt = tm_trmnt.fit(\n",
    "    X_train, y_train, treat_train,\n",
    "    estimator_trmnt_fit_params={'cat_features': cat_features}, \n",
    "    estimator_ctrl_fit_params={'cat_features': cat_features}\n",
    ")\n",
    "\n",
    "uplift_tm_trmnt = tm_trmnt.predict(X_val)\n",
    "\n",
    "tm_trmnt_score = uplift_at_k(y_true=y_val, uplift=uplift_tm_trmnt, treatment=treat_val, k=0.3)\n",
    "\n",
    "models_results['approach'].append('TwoModels_ddr_treatment')\n",
    "models_results['uplift@30%'].append(tm_trmnt_score)\n",
    "\n",
    "plot_uplift_preds(trmnt_preds=tm_trmnt.trmnt_preds_, ctrl_preds=tm_trmnt.ctrl_preds_);"
   ]
  },
  {
   "cell_type": "markdown",
   "metadata": {},
   "source": [
    "## Заключение\n",
    "\n",
    "Рассмотрим, какой метод лучше всего показал себя в этой задаче, и проскорим им тестовую выборку:"
   ]
  },
  {
   "cell_type": "code",
   "execution_count": 9,
   "metadata": {
    "ExecuteTime": {
     "end_time": "2020-01-11T11:35:01.097222Z",
     "start_time": "2020-01-11T11:35:01.082307Z"
    }
   },
   "outputs": [
    {
     "data": {
      "text/html": [
       "<div>\n",
       "<style scoped>\n",
       "    .dataframe tbody tr th:only-of-type {\n",
       "        vertical-align: middle;\n",
       "    }\n",
       "\n",
       "    .dataframe tbody tr th {\n",
       "        vertical-align: top;\n",
       "    }\n",
       "\n",
       "    .dataframe thead th {\n",
       "        text-align: right;\n",
       "    }\n",
       "</style>\n",
       "<table border=\"1\" class=\"dataframe\">\n",
       "  <thead>\n",
       "    <tr style=\"text-align: right;\">\n",
       "      <th></th>\n",
       "      <th>approach</th>\n",
       "      <th>uplift@30%</th>\n",
       "    </tr>\n",
       "  </thead>\n",
       "  <tbody>\n",
       "    <tr>\n",
       "      <th>1</th>\n",
       "      <td>ClassTransformation</td>\n",
       "      <td>0.052384</td>\n",
       "    </tr>\n",
       "    <tr>\n",
       "      <th>2</th>\n",
       "      <td>TwoModels</td>\n",
       "      <td>0.043493</td>\n",
       "    </tr>\n",
       "    <tr>\n",
       "      <th>3</th>\n",
       "      <td>TwoModels_ddr_control</td>\n",
       "      <td>0.041844</td>\n",
       "    </tr>\n",
       "    <tr>\n",
       "      <th>0</th>\n",
       "      <td>SoloModel</td>\n",
       "      <td>0.035962</td>\n",
       "    </tr>\n",
       "    <tr>\n",
       "      <th>4</th>\n",
       "      <td>TwoModels_ddr_treatment</td>\n",
       "      <td>0.030203</td>\n",
       "    </tr>\n",
       "  </tbody>\n",
       "</table>\n",
       "</div>"
      ],
      "text/plain": [
       "                  approach  uplift@30%\n",
       "1      ClassTransformation    0.052384\n",
       "2                TwoModels    0.043493\n",
       "3    TwoModels_ddr_control    0.041844\n",
       "0                SoloModel    0.035962\n",
       "4  TwoModels_ddr_treatment    0.030203"
      ]
     },
     "execution_count": 9,
     "metadata": {},
     "output_type": "execute_result"
    }
   ],
   "source": [
    "pd.DataFrame(data=models_results).sort_values('uplift@30%', ascending=False)"
   ]
  },
  {
   "cell_type": "markdown",
   "metadata": {},
   "source": [
    "Из таблички выше можно понять, что в текущей задаче лучше всего справился подход трансформации целевой перемнной. Обучим модель на всей выборке и предскажем на тест."
   ]
  },
  {
   "cell_type": "code",
   "execution_count": 11,
   "metadata": {
    "ExecuteTime": {
     "end_time": "2020-01-11T11:37:58.249123Z",
     "start_time": "2020-01-11T11:35:19.025997Z"
    }
   },
   "outputs": [
    {
     "name": "stderr",
     "output_type": "stream",
     "text": [
      "/Users/Maksim/Library/Python/3.6/lib/python/site-packages/ipykernel_launcher.py:2: UserWarning: It is recommended to use this approach on treatment balanced data. Current sample size is unbalanced.\n",
      "  \n"
     ]
    },
    {
     "name": "stdout",
     "output_type": "stream",
     "text": [
      "client_id,uplift\r\n",
      "000048b7a6,-0.018037283572946983\r\n",
      "000073194a,0.08209120928550351\r\n",
      "00007c7133,0.10180194944541898\r\n",
      "00007f9014,0.059020888526841064\r\n"
     ]
    }
   ],
   "source": [
    "cm_full = ClassTransformation(CatBoostClassifier(silent=True, thread_count=2, random_state=43))\n",
    "cm_full = cm_full.fit(X_train_full, y_train_full, treat_train_full, estimator_fit_params={'cat_features': [1]})\n",
    "\n",
    "X_test.loc[:, 'uplift'] = cm_full.predict(X_test.values)\n",
    "\n",
    "sub = X_test[['uplift']].to_csv('sub1.csv')\n",
    "\n",
    "!head -n 5 sub1.csv"
   ]
  },
  {
   "cell_type": "code",
   "execution_count": 12,
   "metadata": {
    "ExecuteTime": {
     "end_time": "2020-01-11T11:40:10.938663Z",
     "start_time": "2020-01-11T11:40:10.905631Z"
    }
   },
   "outputs": [
    {
     "data": {
      "text/html": [
       "<div>\n",
       "<style scoped>\n",
       "    .dataframe tbody tr th:only-of-type {\n",
       "        vertical-align: middle;\n",
       "    }\n",
       "\n",
       "    .dataframe tbody tr th {\n",
       "        vertical-align: top;\n",
       "    }\n",
       "\n",
       "    .dataframe thead th {\n",
       "        text-align: right;\n",
       "    }\n",
       "</style>\n",
       "<table border=\"1\" class=\"dataframe\">\n",
       "  <thead>\n",
       "    <tr style=\"text-align: right;\">\n",
       "      <th></th>\n",
       "      <th>feature_name</th>\n",
       "      <th>feature_score</th>\n",
       "    </tr>\n",
       "  </thead>\n",
       "  <tbody>\n",
       "    <tr>\n",
       "      <th>0</th>\n",
       "      <td>first_redeem_time</td>\n",
       "      <td>39.008385</td>\n",
       "    </tr>\n",
       "    <tr>\n",
       "      <th>1</th>\n",
       "      <td>age</td>\n",
       "      <td>20.240392</td>\n",
       "    </tr>\n",
       "    <tr>\n",
       "      <th>2</th>\n",
       "      <td>issue_redeem_delay</td>\n",
       "      <td>17.446927</td>\n",
       "    </tr>\n",
       "    <tr>\n",
       "      <th>3</th>\n",
       "      <td>first_issue_time</td>\n",
       "      <td>17.037222</td>\n",
       "    </tr>\n",
       "    <tr>\n",
       "      <th>4</th>\n",
       "      <td>gender</td>\n",
       "      <td>6.267074</td>\n",
       "    </tr>\n",
       "  </tbody>\n",
       "</table>\n",
       "</div>"
      ],
      "text/plain": [
       "         feature_name  feature_score\n",
       "0   first_redeem_time      39.008385\n",
       "1                 age      20.240392\n",
       "2  issue_redeem_delay      17.446927\n",
       "3    first_issue_time      17.037222\n",
       "4              gender       6.267074"
      ]
     },
     "execution_count": 12,
     "metadata": {},
     "output_type": "execute_result"
    }
   ],
   "source": [
    "cm_full_fi = pd.DataFrame({\n",
    "    'feature_name': cm_full.estimator.feature_names_,\n",
    "    'feature_score': cm_full.estimator.feature_importances_\n",
    "}).sort_values('feature_score', ascending=False).reset_index(drop=True)\n",
    "\n",
    "cm_full_fi"
   ]
  },
  {
   "cell_type": "markdown",
   "metadata": {},
   "source": [
    "Итак, мы познакомились с uplift моделированием и рассмотрели основные классические подходы его построения. Что дальше? Дальше можно с головй окунуться в разведывательный анализ данных, генерацию новых признаков, подбор моделей и их гиперпарметров, а также изучение новых подходов и библиотек.\n",
    "\n",
    "**Спасибо, что дочитали до конца.**\n",
    "\n",
    "**Мне будет приятно, если вы поддержите проект звездочкой на [гитхабе](https://github.com/maks-sh/scikit-uplift/) или расскажете о нем своим друзьям.**"
   ]
  }
 ],
 "metadata": {
  "kernelspec": {
   "display_name": "python 3",
   "language": "python",
   "name": "python3"
  },
  "language_info": {
   "codemirror_mode": {
    "name": "ipython",
    "version": 3
   },
   "file_extension": ".py",
   "mimetype": "text/x-python",
   "name": "python",
   "nbconvert_exporter": "python",
   "pygments_lexer": "ipython3",
   "version": "3.6.1"
  }
 },
 "nbformat": 4,
 "nbformat_minor": 2
}
